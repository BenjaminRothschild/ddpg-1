{
 "cells": [
  {
   "cell_type": "markdown",
   "metadata": {},
   "source": [
    "# Dashboard "
   ]
  },
  {
   "cell_type": "markdown",
   "metadata": {},
   "source": [
    "### Select cell below and press *Ctrl+Enter*"
   ]
  },
  {
   "cell_type": "code",
   "execution_count": 2,
   "metadata": {
    "code_folding": [
     0
    ],
    "collapsed": false,
    "scrolled": true
   },
   "outputs": [],
   "source": [
    "from dashboard import dashboard\n",
    "dashboard(max=5)"
   ]
  },
  {
   "cell_type": "markdown",
   "metadata": {},
   "source": [
    "\n",
    "### To view tensorboard results click on tensorboard and then on `open`\n",
    "\n",
    "### Debugging:\n",
    "Widgetsnbextension are not installed/enabled. Fix:\n",
    "```bash\n",
    "pip install ipywidgets\n",
    "jupyter nbextension enable --py widgetsnbextension\n",
    "```\n",
    "Reloading the page, restarting the kernel, restarting jupyter might help too."
   ]
  },
  {
   "cell_type": "code",
   "execution_count": null,
   "metadata": {
    "collapsed": true
   },
   "outputs": [],
   "source": []
  }
 ],
 "metadata": {
  "kernelspec": {
   "display_name": "Python 2",
   "language": "python",
   "name": "python2"
  },
  "language_info": {
   "codemirror_mode": {
    "name": "ipython",
    "version": 2
   },
   "file_extension": ".py",
   "mimetype": "text/x-python",
   "name": "python",
   "nbconvert_exporter": "python",
   "pygments_lexer": "ipython2",
   "version": "2.7.12"
  },
  "widgets": {
   "state": {
    "0137f9cfdf35452b9bbd4a2b0a087e36": {
     "views": []
    },
    "036340f1eaf940a9b888b46ab5ca0b2b": {
     "views": []
    },
    "037c3b7194ec46558de0b2441e10c43a": {
     "views": []
    },
    "05b7ba47c25346ff8e11c1fdd2f28d6b": {
     "views": []
    },
    "06217267c53a4a9682aec2951d878513": {
     "views": []
    },
    "06b7dfee842343dbaa2aee31d2aacc86": {
     "views": []
    },
    "077715c31265498594595608a61acc4e": {
     "views": []
    },
    "08708e6428ad412d981ad0f0b3cc5a32": {
     "views": []
    },
    "08cc7eedf33d446db5445a4f556c2058": {
     "views": []
    },
    "0a409f2ce74c4b72ac3332145a2b2dcc": {
     "views": []
    },
    "0ad30a399359434fb3b90cc28f184c33": {
     "views": []
    },
    "0b2839ba18764babb751788523d1a996": {
     "views": []
    },
    "0c18a40d03854cdda1f47bf0b548a12e": {
     "views": []
    },
    "0db6651cfe6a4d039a57116cdc7771a4": {
     "views": []
    },
    "0e2ca0115ec9436c913666fd99b5c9d5": {
     "views": []
    },
    "105ab0582cd042b5a8212583416ce4fe": {
     "views": []
    },
    "12539c54a2fb48d895507ccea064bc4f": {
     "views": []
    },
    "13cea09a42a64ba6ae7efddd9ed3d46d": {
     "views": []
    },
    "1406954c33ac477b89130588538bb40a": {
     "views": []
    },
    "146da0bdd5d04122b68d13e3e45254b4": {
     "views": []
    },
    "155c3a2707dd494996376526c704a802": {
     "views": []
    },
    "16dbc133c38b4fc1abf409e36f0aa8f2": {
     "views": []
    },
    "18021fde34c4418b9e6a432095bbb86e": {
     "views": []
    },
    "182f3ccb99a34a04bb50cfb6f743399c": {
     "views": []
    },
    "1aa16e5323cb4ad3ba44f2c508d00ca7": {
     "views": []
    },
    "1ad7d4fdc88849ec9c70860fc0cc2415": {
     "views": []
    },
    "1c32a8c1e0374c00aacd5714b8d7ab06": {
     "views": []
    },
    "1cc8190dc16a484f8fb56fde8d6ecdad": {
     "views": []
    },
    "1d40c40e661d400a9ba75ca0e121796a": {
     "views": []
    },
    "1dc43f5bcb29474d833c06aa2559e91a": {
     "views": []
    },
    "1dd524dfb33b43f0a7aebe9d634069c4": {
     "views": []
    },
    "1e165ca806d34caf825fa240464ffaca": {
     "views": []
    },
    "1ec5bea973394f10b1d9a0f6b6ea9a13": {
     "views": []
    },
    "1f2dfe08b6f54dc6a5f53a7675ae6a01": {
     "views": []
    },
    "20aef1aecff64eb686556203115500a6": {
     "views": []
    },
    "20b3355e8d7149978dd5a7c547641916": {
     "views": []
    },
    "220ceeadfc09485dbe95ba7737f68fbf": {
     "views": []
    },
    "23cc8c04265045f7a7ffac6011a7eabe": {
     "views": []
    },
    "23ed35bf0efd4813a114f3063956fce7": {
     "views": []
    },
    "241ba5df71074df2b9b02bd7910cadb8": {
     "views": []
    },
    "24e7c7ba51b84ee6b50b67ac9db09efa": {
     "views": []
    },
    "250a54c643f0427f95f275acc1b1d302": {
     "views": []
    },
    "25fd30b38d4b43519f3b6eb80c6e2880": {
     "views": []
    },
    "260e190227984ced92f0e4fc2c9d0942": {
     "views": []
    },
    "2688f3ff6b1544cc8a327e3f2466db03": {
     "views": []
    },
    "276e7f7626fe428a9f47858294561dd5": {
     "views": []
    },
    "287a093412bf4a7b8c600c73e47d8f7f": {
     "views": []
    },
    "294137ac2af441f880766bab8bf7cba4": {
     "views": []
    },
    "29ca715653634390868612560378a4a2": {
     "views": []
    },
    "29f747fce7f44a3bb5c4bcffa4a673bd": {
     "views": []
    },
    "2a3ea5fd8ba64d4898e8b6a09e950d2e": {
     "views": []
    },
    "2a64abb3b4544a60882972e346d7b115": {
     "views": []
    },
    "2ac8344680b44233bed2f77f4ec10d5d": {
     "views": []
    },
    "2b0943970af748ef8e542fc521abf9c5": {
     "views": []
    },
    "2b6dfa8006c04a2a9d21095aa9618755": {
     "views": []
    },
    "2c9358fe68764bffafaaf33a67daffc4": {
     "views": []
    },
    "2cc99b3a058f4573b230044daa56dc08": {
     "views": []
    },
    "2d2ea66b204b4bdba48326232ca919c3": {
     "views": []
    },
    "30a14a9bd10c4775a7377212270b6870": {
     "views": []
    },
    "316d78dc20bb4685972cec0f619c37b3": {
     "views": []
    },
    "319615840cab45d8ae06ad4be740119d": {
     "views": []
    },
    "3499ababfbec4ce2a9a0d514384b2162": {
     "views": []
    },
    "35238303dd0c426fb2740b5f04d1739d": {
     "views": []
    },
    "357557ef7ced430c9e332e8b94a42c7f": {
     "views": []
    },
    "35781443ab794124b97ebe168d33e1ce": {
     "views": []
    },
    "35f4745af8644fb691452ee60ef8404d": {
     "views": []
    },
    "3603c6676640421984ae74430f08b4c7": {
     "views": []
    },
    "36b765d21e314dd2a053f5b3df18ff07": {
     "views": []
    },
    "36d2276d7ed3455fb1810ab791ad1806": {
     "views": []
    },
    "3750891921554f7e8952aca4a9541d5a": {
     "views": []
    },
    "37c686700adb4610aa1f66745e6a034d": {
     "views": []
    },
    "3c04d5b8256b4cca9968a2d70a501a76": {
     "views": []
    },
    "3c28ff670f8d4516aa4a47ca4295fe9e": {
     "views": []
    },
    "3db68448807f43a3886ad4e3586cf1d9": {
     "views": []
    },
    "4022d39b3b4b455caa78d902e82edceb": {
     "views": []
    },
    "41906311a2f149ee8b9305d1afd43fc9": {
     "views": []
    },
    "41edc7663bda4785b0df8fdf481cecf8": {
     "views": []
    },
    "41f23b887aa044ceb0e362fd692d2ce5": {
     "views": []
    },
    "41feeecd49384c719bddaebd2df5f9ce": {
     "views": []
    },
    "422c6b036fe6484e92414e42af0284a8": {
     "views": []
    },
    "43590e8732e94a74873c920aa212622d": {
     "views": []
    },
    "43bdf664addd47a1b70e4de29c4338de": {
     "views": []
    },
    "4483bd95180c49d4867693058b8a5ed0": {
     "views": []
    },
    "452fa0a08ad34e41b7c4a81e0fecb0ef": {
     "views": []
    },
    "45a3224a53f14cf7968a22c50a5ba583": {
     "views": []
    },
    "45bc02479d7e434fb5e564c474effc0b": {
     "views": []
    },
    "45c08316dfa64e9995c158e87d583963": {
     "views": []
    },
    "47f2aa7472a346ed8bd22cebfcdb77f9": {
     "views": []
    },
    "481e77b47e254ffd8dd04205032db6a3": {
     "views": []
    },
    "48ddc27d6ef448dcab6649a635926ca6": {
     "views": []
    },
    "4c87e99cbb99452b9ba9b2445b44385c": {
     "views": []
    },
    "4d5845cb7dfb4017b8e9ea96d9b55f6d": {
     "views": []
    },
    "4dce366f73d64746a78ad47e6ad4c8b6": {
     "views": []
    },
    "4e326c1ecefa47c78d636b063081df7a": {
     "views": []
    },
    "4e80d2242f314337b62e9cca0b070491": {
     "views": []
    },
    "4f7d879d8e634851ad30a55da50f12a9": {
     "views": []
    },
    "4fe747bf8e40491bb253d1000d2d2dbb": {
     "views": []
    },
    "5124891b45424db89d7a8237dfedd1ad": {
     "views": []
    },
    "51e6510258de49e5b9fd782e949b47e4": {
     "views": []
    },
    "529cdacb6f7545a6a1d638fe8b000a7c": {
     "views": []
    },
    "540a60a35872435ba2c7861990113dd6": {
     "views": []
    },
    "56e2b3c344bb46afad2576fdda51efbd": {
     "views": []
    },
    "576c909c8bf243ad8abeda5327027e3f": {
     "views": []
    },
    "579a520ed71840fa860ff69ccf88e4da": {
     "views": []
    },
    "58b7971ebcdb4a728187e23ed33dbeb2": {
     "views": []
    },
    "5974d5b8a00245e7b40898dd76e7971c": {
     "views": []
    },
    "59dfd9cd16d448a587e69e145e411bf0": {
     "views": []
    },
    "5a053ed62ff2482caa76a104226d7da7": {
     "views": []
    },
    "5a3fba2b47bb4cb5b3bc5d20f92990d4": {
     "views": []
    },
    "5ad1d91a12394a7aa8114fcda2cc747d": {
     "views": []
    },
    "5b6c5ed084694b218147583378be996b": {
     "views": []
    },
    "5d3407e2f5ed411daecefb695cfffd47": {
     "views": []
    },
    "5ec8c5fbc45541cabbaddf20c977fd5c": {
     "views": []
    },
    "5ff5c332f6c64eb4bf70ff81bd122e2d": {
     "views": []
    },
    "601d3617703c407a9e3aa3efa027f357": {
     "views": []
    },
    "62648b1fbe5d442a86ba291648a0a821": {
     "views": []
    },
    "62bebcf16e9c42fd985131d975347c85": {
     "views": []
    },
    "63252668b7a54163ba148d7931744b14": {
     "views": []
    },
    "6330ab5515dd462db45396569a6081cd": {
     "views": []
    },
    "6355b76f80ae4530a516d04308218ddc": {
     "views": []
    },
    "64834f900cc044bab357ed13037cb507": {
     "views": []
    },
    "6483c14b7e7e40078e0f4c392b1d075d": {
     "views": []
    },
    "6538b84059c54b9db7230d31ae3c971d": {
     "views": []
    },
    "68b4b8645f084c538341fc76263a4d5a": {
     "views": []
    },
    "694c60366f7e4db2b38cc3d4e39fcd5d": {
     "views": []
    },
    "6c61706a951546389789dc1e18c25db0": {
     "views": []
    },
    "6c9efa20858247bf833ae342e1629e51": {
     "views": []
    },
    "6d55348cf630400aa0254c2f143906e1": {
     "views": []
    },
    "6e656767803f46e1898cd9dc534a8841": {
     "views": []
    },
    "6f626fb55db0453b9d3b77f4002f5a41": {
     "views": []
    },
    "706516ac4ed1462bb65b320a380bb9fd": {
     "views": []
    },
    "71e5191fc6fa43da94716f0dbb89cf9b": {
     "views": []
    },
    "725d08df21384fb9b65c00d4b1afb4e3": {
     "views": []
    },
    "739958e1a0114297bbed3bf84c295ea9": {
     "views": []
    },
    "73e2745fff384ea0ab7e1270c6eb36e3": {
     "views": []
    },
    "7400baf689154ee49ee19c8fd5fa602a": {
     "views": []
    },
    "75272f6b9ffc4fe2a9fb003548edb9ec": {
     "views": []
    },
    "76c28d42ed4642fc963bbb853bd70835": {
     "views": []
    },
    "7872fcb13f2f424d96fe5a002e2cbb1b": {
     "views": []
    },
    "7951966bc6ff4cee9d6450449b7bf2c1": {
     "views": []
    },
    "7a7ae429d7a74e04ba2a31829a6a05bb": {
     "views": []
    },
    "7b3901dcadf74cb29b4004fee78fe890": {
     "views": []
    },
    "7be0ed25901f4e8bb6071da33cf4cf50": {
     "views": []
    },
    "7d4a439715fe41439c4bb21c1973c468": {
     "views": []
    },
    "7e2b9d1ab0aa472d9a26b73f8ddde8ea": {
     "views": []
    },
    "7e988065a66a43e7b7d624e97dc93984": {
     "views": []
    },
    "80a4ce7c4e694393b300c8b01ece990c": {
     "views": []
    },
    "80ec93baaf6843e4a823f19589f4af59": {
     "views": []
    },
    "8112d7b62b174627bfefe6e8bbba8150": {
     "views": []
    },
    "81da4563bc04473fb177c6f7d3858e5c": {
     "views": []
    },
    "83b148abd6834f30830207ae5691d839": {
     "views": []
    },
    "84ba1f0397874a3ab1df1224d6864b58": {
     "views": []
    },
    "85be28867c1245db8c6a9aba1ab666ff": {
     "views": []
    },
    "8654633144c1437293daeb3bd5f418d5": {
     "views": []
    },
    "866b0ae0a0cc4f6490b635494ff9064d": {
     "views": []
    },
    "86f32336c43c4bd78bcd2821db824ee5": {
     "views": []
    },
    "87849b4c5ba2466fa014d41e97ef9452": {
     "views": []
    },
    "87f902d82539403aaab10b8575d7ccd1": {
     "views": []
    },
    "88515d50c09b4c0f9bfb09bcc3265474": {
     "views": []
    },
    "892fe61bef2149b597e768f61599d976": {
     "views": []
    },
    "89f9b202c05f469386dfb90484e357f3": {
     "views": []
    },
    "8a6c3d9cf2c34306b11e15302a5304fe": {
     "views": []
    },
    "8abbefa052654cd4a81f342e1edaed03": {
     "views": []
    },
    "8aefe11f17e348b78c67270893c7ca5b": {
     "views": []
    },
    "8c1bdc81d7434e479b6cf43859ce957b": {
     "views": []
    },
    "8d34b7aec1c64b68a3ec50e47152799d": {
     "views": []
    },
    "8d82301650cd4d85a585dc32e1e1f5f3": {
     "views": []
    },
    "8e8e9550cfbf41f3b979a35417180549": {
     "views": []
    },
    "8e93d990f4c14e43b0c12b55ee0ac8f4": {
     "views": []
    },
    "8eaba7d6737a4754b28e7c9afa830e38": {
     "views": []
    },
    "8f62618a443c4918b01a3252f27bfb1d": {
     "views": []
    },
    "8f68e45fb52f48b8b68572ba7825e2d1": {
     "views": []
    },
    "8ff5b1efb5e245f9b0df10c70e91f6c3": {
     "views": []
    },
    "90217e5135ac45548f8bcd87805ae204": {
     "views": []
    },
    "902e08d5e55d400c9eb3bf3886ce4573": {
     "views": []
    },
    "90689bd6c85d4929942ed3dd379836b9": {
     "views": []
    },
    "90df5f71a20047c390096d2b1ec67760": {
     "views": []
    },
    "917e7c43d35a4053995344c56aa19e5a": {
     "views": []
    },
    "9275fd1ff74c47fab9403ed5b20344d4": {
     "views": []
    },
    "931734df16f94da2a24deea6f7c3d1c7": {
     "views": []
    },
    "9358cd8fedf9479db66f965b702328cf": {
     "views": []
    },
    "96364d8b675c44f2862f43c2d4cffd2d": {
     "views": []
    },
    "9a181506a57f4a7599f62e646e3ab6e2": {
     "views": []
    },
    "9bce46da57e5452c96e33a659d8988c4": {
     "views": []
    },
    "9f6c91cb03164de58684d196e3fc0d6d": {
     "views": []
    },
    "a4487cf2aafc4247b72860b49d86244d": {
     "views": []
    },
    "a506c6d5693f411da81ce3d0b789b31f": {
     "views": []
    },
    "a5714aa90ba64250b59026763905030d": {
     "views": []
    },
    "a5cacdedbccd4aef907eef00153ba0fc": {
     "views": []
    },
    "a657bdc55c3d452f832230e23f9a1dcb": {
     "views": []
    },
    "a6738d9846f14daca37a8a1adf2dee31": {
     "views": []
    },
    "a6a4f7bee56741faac2f7adb8291a7e5": {
     "views": []
    },
    "a75f0c4daccc4c079cbd89dcf58a6c5b": {
     "views": []
    },
    "a9137343adac4e61aec700a0a07ba1c6": {
     "views": []
    },
    "a970bf1e24ec4838b0460f119e17dcc7": {
     "views": []
    },
    "a9edc28e53934727a0eef715bba6774b": {
     "views": []
    },
    "aaee253e1bca4388b90705742a62ca16": {
     "views": []
    },
    "ac84e5ecd5f84404a0a120736bfe76c2": {
     "views": []
    },
    "ae91a469b03643d89ada3d7ff5950d57": {
     "views": []
    },
    "aef7671a5b4746a7873e432bc16af4ba": {
     "views": []
    },
    "af5a482cc97f462f84f35239d5f0e5d1": {
     "views": []
    },
    "b0f8b8edbba64164be5f01a5417e722b": {
     "views": []
    },
    "b1ed43a8c495417a9ff1379ffb72252c": {
     "views": []
    },
    "b2667aadcf294b44ad1e57e0a1e55c91": {
     "views": []
    },
    "b2c4d91b8c7449c891ddaa4237def62d": {
     "views": []
    },
    "b2ee8a7271454436b87ab9dde309caa0": {
     "views": []
    },
    "b35aec4c7df1441a9f1cc9c4e6c3a163": {
     "views": []
    },
    "b482a86d74bb49e2bc72f76e396ea708": {
     "views": []
    },
    "b4b324958f8749139c6338c4ed17b3e2": {
     "views": []
    },
    "b5aa0cb89d9f4209b14152b7e279c4a0": {
     "views": []
    },
    "b61062f681ad4e20a3be0f0d649d0cf3": {
     "views": []
    },
    "b80f568e32a748c9aec1000821e7af80": {
     "views": []
    },
    "b899497ac9d04f3fb77955644b703d54": {
     "views": []
    },
    "ba728884047c4721b4bb0426b5338d63": {
     "views": []
    },
    "badd376152ca4f64b551803f55b655a3": {
     "views": []
    },
    "bc6181ea0a3e4e12a8ecc5f93de1441e": {
     "views": []
    },
    "bc9553dcab81415aa7d092a4e8c8a9ed": {
     "views": []
    },
    "bd35961b7b2c4ff7ba15df07d721180d": {
     "views": []
    },
    "bdab3014ee4a4a80845260c2225dde8e": {
     "views": []
    },
    "be1f09bb2c27471db14d9ae02a14b626": {
     "views": []
    },
    "bfc974a55661496b9e02e86d23224cad": {
     "views": []
    },
    "bfdc5c0b445e44968750f335228fe592": {
     "views": []
    },
    "c28a0151dd2345a1988af8d3722a0370": {
     "views": []
    },
    "c65fc96f049546a8affac8fe51d149e5": {
     "views": []
    },
    "c6fd973d81394a5a9abd5f1ba6cab7f1": {
     "views": []
    },
    "c8bf579256dc429dacc1d0c668993f47": {
     "views": []
    },
    "c8ef821d208744f8ab2597df021a9df9": {
     "views": []
    },
    "c97aa5142c244350a4008a5e8d227804": {
     "views": []
    },
    "c9902c08f5b54847acb44979ca787e4e": {
     "views": []
    },
    "c9ad771911e7467f891f0828172c3e44": {
     "views": []
    },
    "c9bc3fcd7555449387f9c95b5df06055": {
     "views": []
    },
    "c9e2e167c36e4b2d939fb8e05ea61242": {
     "views": []
    },
    "ca56248341624f5f949a4518e70be07b": {
     "views": []
    },
    "ca720be78f064e76a96554f7fe09ba08": {
     "views": []
    },
    "cad678a663834cb48eb2c25368cfb68b": {
     "views": []
    },
    "cb4cb394ba3b45df880639152f919f64": {
     "views": []
    },
    "cb513c821244491684dff70692bb0bcb": {
     "views": []
    },
    "cb6f8e1f2d704b9a9922948b9aa978ab": {
     "views": []
    },
    "cb73137f4d004fb38ab7e71fe1fdb40c": {
     "views": []
    },
    "cbfa07cfc14f41ddb339b9622de2b3b4": {
     "views": []
    },
    "ce371a2263354fa28afbe6e361613bbb": {
     "views": []
    },
    "cfa974471444413683b97ca5904b1363": {
     "views": []
    },
    "d0842c52dd6046da84e051281f49d89d": {
     "views": [
      {
       "cell_index": 2
      }
     ]
    },
    "d0db5ac4ca0e421eb1ab8cbf363c2587": {
     "views": []
    },
    "d27e95d0e48f4f18933f84b23150f9f8": {
     "views": []
    },
    "d321e84aaa914c939295cd83be2b0d6d": {
     "views": []
    },
    "d3465a800a7840acb3229654c6946e36": {
     "views": []
    },
    "d414bded31c84ebb9b08f1f8aa394c11": {
     "views": []
    },
    "d51e17f5c7b240e7ae6b9e9e8be3db36": {
     "views": []
    },
    "d59e7c297872494db671684c214b6970": {
     "views": []
    },
    "d59f33129689495eb7ffd143896432d3": {
     "views": []
    },
    "d722eec0ee2e4bf0a2c261a7ce3e2744": {
     "views": []
    },
    "d79cbd39ce884980bfd08eed8b2c36a3": {
     "views": []
    },
    "d9c8d437412e403f8b02eb02a2102280": {
     "views": []
    },
    "da339b0463ab4330a6ddd841a37957eb": {
     "views": []
    },
    "da44ae51c908400aafce189adaf46ee8": {
     "views": []
    },
    "dbd9daa42a7c4d1faca6a113c7372d63": {
     "views": []
    },
    "dcf06cac194249d1941d449d8235ebc2": {
     "views": []
    },
    "dd974d22ca944ca4a214249e0296e015": {
     "views": []
    },
    "ddbdb53dd3f745cd9c650ccf7ce9e2f4": {
     "views": []
    },
    "dddd21d3efe9457395f90c9daafc715e": {
     "views": []
    },
    "de9a18363828415196ca98fbd46c340f": {
     "views": []
    },
    "ded58f5e98394e5a88891c58080364c0": {
     "views": []
    },
    "e069d2c23bb245738246a27d077eabe2": {
     "views": []
    },
    "e0b30e59906c47d6a28361d63ea442a6": {
     "views": []
    },
    "e16afa2930484ce2b7043806af67892a": {
     "views": []
    },
    "e2b0409a642f4d5cb043c05fe04caa67": {
     "views": []
    },
    "e44a137981b04f8ca8955f810c932cbd": {
     "views": []
    },
    "e456b6c82116454e97b57e0bd086eac4": {
     "views": []
    },
    "e4e39b7b366b4bfa8970375556ce4a02": {
     "views": []
    },
    "e5ddc116b041411da679f8744c031a84": {
     "views": []
    },
    "e69d97ccb40b451f8d42ce0cf60d32bf": {
     "views": []
    },
    "e6fdf9caf0b44528b3c0b3260b6b8a8a": {
     "views": []
    },
    "e78b6c2f698f4a76b29e4047395efc66": {
     "views": []
    },
    "e838930f15c447028d23a71207e50b15": {
     "views": []
    },
    "eaca10a6cbbb48dbaccf98c66e23d267": {
     "views": []
    },
    "eb178fb1b49441e39f8a3f2a2dbbd5a6": {
     "views": []
    },
    "ec7b2884a02b4474b7e1e6732073bb7a": {
     "views": []
    },
    "ecd28d7184e64f209d45ee9681563e25": {
     "views": []
    },
    "ed3fca340a244ae1b797ec86fecb5c5a": {
     "views": []
    },
    "ed5cc00d07b54d5f8feb76d0ca52aee8": {
     "views": []
    },
    "ed9dcbd56b28418eae7795b68244e401": {
     "views": []
    },
    "ee031a08c17e4a978185e4da0dae1928": {
     "views": []
    },
    "ee04b62df7ff46e7822c5fd449c6b501": {
     "views": []
    },
    "eebecb001f6c4e4faa29d787b7741aaf": {
     "views": []
    },
    "eec14ebb9b7a4e4aaab292654e31e6ae": {
     "views": []
    },
    "efbe4686d46e40e89c87bb470ba4c38c": {
     "views": []
    },
    "f0ef6f01199047c8b14ac3bb208bf6f6": {
     "views": []
    },
    "f150e06c9722463da0c3ed7441f27b2f": {
     "views": []
    },
    "f1ae856329b249f39e184d76f403fdd0": {
     "views": []
    },
    "f1e10e01ac1848bf98e19ff81d55ad3f": {
     "views": []
    },
    "f354104ca2cb42739f2bcff84988172e": {
     "views": []
    },
    "f3597339483240669679c05dc86043b6": {
     "views": []
    },
    "f35cea816bfc4fad9fa59ed8f5219c62": {
     "views": []
    },
    "f795096dc204459eafe6347b53da3145": {
     "views": []
    },
    "f7a710ad710a46cf8cdf5677d3ae9a61": {
     "views": []
    },
    "f81fe7d30e15432db82831063c1dbb82": {
     "views": []
    },
    "f92a2e9518a7485fa4372b11d6518a91": {
     "views": []
    },
    "f96166fff4d3437fb0d0972d7b98db64": {
     "views": []
    },
    "f9bfac551df04eea8354a6b1eca56e87": {
     "views": []
    },
    "fb67d6e6e56b4ef6869c943f8fd70e19": {
     "views": []
    },
    "fc43ec813f4940f9851c89e18cbd9d42": {
     "views": []
    },
    "fcb5e7108ea34fecaf16dae74de88790": {
     "views": []
    },
    "fde0be1036ad484d8a94b7c6d132e6e9": {
     "views": []
    }
   },
   "version": "1.1.2"
  }
 },
 "nbformat": 4,
 "nbformat_minor": 0
}
